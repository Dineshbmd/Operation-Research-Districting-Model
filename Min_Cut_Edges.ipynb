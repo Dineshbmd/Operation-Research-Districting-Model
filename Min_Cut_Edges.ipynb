{
 "cells": [
  {
   "cell_type": "code",
   "execution_count": 4,
   "metadata": {},
   "outputs": [],
   "source": [
    "from gerrychain import Graph"
   ]
  },
  {
   "cell_type": "code",
   "execution_count": 5,
   "metadata": {},
   "outputs": [
    {
     "name": "stdout",
     "output_type": "stream",
     "text": [
      "The New Mexico county graph has nodes = [0, 1, 2, 3, 4, 5, 6, 7, 8, 9, 10, 11, 12, 13, 14, 15, 16, 17, 18, 19, 20, 21, 22, 23, 24, 25, 26, 27, 28, 29, 30, 31, 32]\n"
     ]
    }
   ],
   "source": [
    "# Read New Mexico county graph from the json file \"NM_county.json\"\n",
    "filename = 'NM_county.json'\n",
    "\n",
    "# GerryChain has a build-in function for reading graphs of this type:\n",
    "G = Graph.from_json( filename )\n",
    "\n",
    "# Print the nodes\n",
    "print(\"The New Mexico county graph has nodes =\", G.nodes)"
   ]
  },
  {
   "cell_type": "code",
   "execution_count": 6,
   "metadata": {},
   "outputs": [
    {
     "name": "stdout",
     "output_type": "stream",
     "text": [
      "Node 0 represents Curry County which had a population of 48430 in the 2020 cencus.\n",
      "Node 1 represents Roosevelt County which had a population of 19191 in the 2020 cencus.\n",
      "Node 2 represents San Juan County which had a population of 121661 in the 2020 cencus.\n",
      "Node 3 represents Lincoln County which had a population of 20269 in the 2020 cencus.\n",
      "Node 4 represents Guadalupe County which had a population of 4452 in the 2020 cencus.\n",
      "Node 5 represents Torrance County which had a population of 15045 in the 2020 cencus.\n",
      "Node 6 represents Luna County which had a population of 25427 in the 2020 cencus.\n",
      "Node 7 represents McKinley County which had a population of 72902 in the 2020 cencus.\n",
      "Node 8 represents Rio Arriba County which had a population of 40363 in the 2020 cencus.\n",
      "Node 9 represents Lea County which had a population of 74455 in the 2020 cencus.\n",
      "Node 10 represents Chaves County which had a population of 65157 in the 2020 cencus.\n",
      "Node 11 represents Santa Fe County which had a population of 154823 in the 2020 cencus.\n",
      "Node 12 represents Quay County which had a population of 8746 in the 2020 cencus.\n",
      "Node 13 represents Bernalillo County which had a population of 676444 in the 2020 cencus.\n",
      "Node 14 represents Sierra County which had a population of 11576 in the 2020 cencus.\n",
      "Node 15 represents Valencia County which had a population of 76205 in the 2020 cencus.\n",
      "Node 16 represents De Baca County which had a population of 1698 in the 2020 cencus.\n",
      "Node 17 represents Otero County which had a population of 67839 in the 2020 cencus.\n",
      "Node 18 represents Catron County which had a population of 3579 in the 2020 cencus.\n",
      "Node 19 represents Union County which had a population of 4079 in the 2020 cencus.\n",
      "Node 20 represents San Miguel County which had a population of 27201 in the 2020 cencus.\n",
      "Node 21 represents Taos County which had a population of 34489 in the 2020 cencus.\n",
      "Node 22 represents Grant County which had a population of 28185 in the 2020 cencus.\n",
      "Node 23 represents Colfax County which had a population of 12387 in the 2020 cencus.\n",
      "Node 24 represents Sandoval County which had a population of 148834 in the 2020 cencus.\n",
      "Node 25 represents Cibola County which had a population of 27172 in the 2020 cencus.\n",
      "Node 26 represents Doña Ana County which had a population of 219561 in the 2020 cencus.\n",
      "Node 27 represents Harding County which had a population of 657 in the 2020 cencus.\n",
      "Node 28 represents Hidalgo County which had a population of 4178 in the 2020 cencus.\n",
      "Node 29 represents Socorro County which had a population of 16595 in the 2020 cencus.\n",
      "Node 30 represents Los Alamos County which had a population of 19419 in the 2020 cencus.\n",
      "Node 31 represents Mora County which had a population of 4189 in the 2020 cencus.\n",
      "Node 32 represents Eddy County which had a population of 62314 in the 2020 cencus.\n",
      "\n",
      "The total population of New Mexico is 2117522\n",
      "\n",
      "Using L = 702312 and U = 709369 and k = 3\n"
     ]
    }
   ],
   "source": [
    "# Let's impose a 1% population deviation (+/- 0.5%)\n",
    "deviation = 0.01\n",
    "\n",
    "import math\n",
    "k = 3          # number of districts\n",
    "\n",
    "\n",
    "# For each node, print the node #, county name, and its population\n",
    "for node in G.nodes:\n",
    "    county_name = G.nodes[node]['NAME20']\n",
    "    county_population = G.nodes[node]['P0010001']\n",
    "    G.nodes[node]['TOTPOP'] = county_population\n",
    "    print(\"Node\", node, \"represents\", county_name, \"County which had a population of\", county_population,\"in the 2020 cencus.\")\n",
    "\n",
    "total_population = sum(G.nodes[node]['TOTPOP'] for node in G.nodes) # Population of New Mexico\n",
    "\n",
    "print(\"\\nThe total population of New Mexico is\", total_population)\n",
    "\n",
    "L = math.ceil((1-deviation/2)*total_population/k)  # Lower Bound of District Population\n",
    "U = math.floor((1+deviation/2)*total_population/k) # Upper Bound of District Population\n",
    "\n",
    "print(\"\\nUsing L =\",L,\"and U =\",U,\"and k =\",k)"
   ]
  },
  {
   "cell_type": "code",
   "execution_count": 8,
   "metadata": {},
   "outputs": [],
   "source": [
    "import gurobipy as gp\n",
    "from gurobipy import GRB\n",
    "\n",
    "# create model \n",
    "m = gp.Model()\n",
    "\n",
    "# create variables\n",
    "x = m.addVars(G.nodes, k, vtype=GRB.BINARY) # x[i,j] equals one when county i is assigned to district j\n",
    "y = m.addVars(G.edges, vtype=GRB.BINARY)  # y[u,v] equals one when edge {u,v} is cut"
   ]
  },
  {
   "cell_type": "code",
   "execution_count": 9,
   "metadata": {},
   "outputs": [],
   "source": [
    "# objective is to minimize cut edges\n",
    "m.setObjective( gp.quicksum( y[u,v] for u,v in G.edges ), GRB.MINIMIZE )"
   ]
  },
  {
   "cell_type": "code",
   "execution_count": 10,
   "metadata": {},
   "outputs": [],
   "source": [
    "# add constraints saying that each county i is assigned to one and only one district\n",
    "m.addConstrs( gp.quicksum(x[i,j] for j in range(k)) == 1 for i in G.nodes)\n",
    "\n",
    "# add constraints saying that each district must have a population between L and U\n",
    "m.addConstrs( gp.quicksum( G.nodes[i]['TOTPOP'] * x[i,j] for i in G.nodes) >= L for j in range(k) )\n",
    "m.addConstrs( gp.quicksum( G.nodes[i]['TOTPOP'] * x[i,j] for i in G.nodes) <= U for j in range(k) )\n",
    "\n",
    "# add constraints saying that edge {i,j} is cut if i is assigned to district v but j is not.\n",
    "m.addConstrs( x[i,v] - x[j,v] <= y[i,j] for i,j in G.edges for v in range(k))\n",
    "\n",
    "m.update()"
   ]
  },
  {
   "cell_type": "code",
   "execution_count": 11,
   "metadata": {},
   "outputs": [],
   "source": [
    "# CONTIGUITY CONSTRAINTS!!!\n",
    "# We will use the contiguity constraints of Hojny et al. (MPC, 2021)\n",
    "#   https://link.springer.com/article/10.1007/s12532-020-00186-3\n",
    "\n",
    "# Add root variables: r[i,j] equals 1 if node i is the \"root\" of district j\n",
    "r = m.addVars(G.nodes, k, vtype=GRB.BINARY)\n",
    "\n",
    "# Add flow variables: f[u,v] = amount of flow sent across arc uv \n",
    "#  Flows are sent across arcs of the directed version of G which we call DG\n",
    "import networkx as nx\n",
    "DG = nx.DiGraph(G) # directed version of G\n",
    "f = m.addVars(DG.edges, vtype=GRB.CONTINUOUS)"
   ]
  },
  {
   "cell_type": "code",
   "execution_count": 8,
   "metadata": {},
   "outputs": [],
   "source": [
    "# The big-M proposed by Hojny et al.\n",
    "M = G.number_of_nodes() - k + 1\n",
    "\n",
    "# Each district j should have one root\n",
    "m.addConstrs( gp.quicksum( r[i,j] for i in DG.nodes) == 1 for j in range(k) )\n",
    "\n",
    "# If node i is not assigned to district j, then it cannot be its root\n",
    "m.addConstrs( r[i,j] <= x[i,j] for i in DG.nodes for j in range(k) )  \n",
    "\n",
    "# if not a root, consume some flow.\n",
    "# if a root, only send out (so much) flow.\n",
    "m.addConstrs( gp.quicksum( f[u,v] - f[v,u] for u in DG.neighbors(v) ) >= 1 - M * gp.quicksum( r[v,j] for j in range(k)) for v in G.nodes)\n",
    "\n",
    "# do not send flow across cut edges\n",
    "m.addConstrs( f[i,j] + f[j,i] <= M * (1 - y[i,j]) for (i,j) in G.edges )\n",
    "\n",
    "m.update()"
   ]
  },
  {
   "cell_type": "code",
   "execution_count": 13,
   "metadata": {},
   "outputs": [
    {
     "name": "stdout",
     "output_type": "stream",
     "text": [
      "Gurobi Optimizer version 10.0.2 build v10.0.2rc0 (win64)\n",
      "\n",
      "CPU model: AMD Ryzen 5 3450U with Radeon Vega Mobile Gfx, instruction set [SSE2|AVX|AVX2]\n",
      "Thread count: 4 physical cores, 8 logical processors, using up to 8 threads\n",
      "\n",
      "Optimize a model with 273 rows, 432 columns and 999 nonzeros\n",
      "Model fingerprint: 0x9cefeaf9\n",
      "Variable types: 156 continuous, 276 integer (276 binary)\n",
      "Coefficient statistics:\n",
      "  Matrix range     [1e+00, 7e+05]\n",
      "  Objective range  [1e+00, 1e+00]\n",
      "  Bounds range     [1e+00, 1e+00]\n",
      "  RHS range        [1e+00, 7e+05]\n",
      "Presolved: 273 rows, 177 columns, 999 nonzeros\n",
      "\n",
      "Continuing optimization...\n",
      "\n",
      "\n",
      "Cutting planes:\n",
      "  Gomory: 4\n",
      "  Cover: 1\n",
      "  MIR: 14\n",
      "  StrongCG: 1\n",
      "  Zero half: 1\n",
      "  RLT: 27\n",
      "\n",
      "Explored 484 nodes (11521 simplex iterations) in 0.03 seconds (0.00 work units)\n",
      "Thread count was 8 (of 8 available processors)\n",
      "\n",
      "Solution count 5: 19 20 24 ... 30\n",
      "\n",
      "Optimal solution found (tolerance 1.00e-04)\n",
      "Best objective 1.900000000000e+01, best bound 1.900000000000e+01, gap 0.0000%\n"
     ]
    }
   ],
   "source": [
    "# solve IP model\n",
    "m.optimize()"
   ]
  },
  {
   "cell_type": "code",
   "execution_count": 14,
   "metadata": {},
   "outputs": [
    {
     "name": "stdout",
     "output_type": "stream",
     "text": [
      "The number of cut edges is 19.0\n",
      "District 0 has population 708853 and contains counties ['Curry', 'Roosevelt', 'Lincoln', 'Guadalupe', 'Luna', 'Lea', 'Chaves', 'Quay', 'Sierra', 'De Baca', 'Otero', 'Catron', 'San Miguel', 'Grant', 'Doña Ana', 'Hidalgo', 'Socorro', 'Eddy']\n",
      "District 1 has population 703616 and contains counties ['Bernalillo', 'Cibola']\n",
      "District 2 has population 705053 and contains counties ['San Juan', 'Torrance', 'McKinley', 'Rio Arriba', 'Santa Fe', 'Valencia', 'Union', 'Taos', 'Colfax', 'Sandoval', 'Harding', 'Los Alamos', 'Mora']\n",
      "\n",
      "The population deviation for this model is 5237 people.\n"
     ]
    }
   ],
   "source": [
    "print(\"The number of cut edges is\",m.objval)\n",
    "\n",
    "# retrieve the districts and their populations\n",
    "districts = [ [i for i in G.nodes if x[i,j].x > 0.5] for j in range(k)]\n",
    "district_counties = [ [ G.nodes[i][\"NAME20\"] for i in districts[j] ] for j in range(k)]\n",
    "district_populations = [ sum(G.nodes[i][\"TOTPOP\"] for i in districts[j]) for j in range(k) ]\n",
    "\n",
    "# print district info\n",
    "for j in range(k):\n",
    "    print(\"District\",j,\"has population\",district_populations[j],\"and contains counties\",district_counties[j])\n",
    "\n",
    "# What is the population deviation for this model?\n",
    "population_deviation = max(district_populations) - min(district_populations)\n",
    "print(\"\\nThe population deviation for this model is\", population_deviation, \"people.\")"
   ]
  },
  {
   "cell_type": "code",
   "execution_count": 16,
   "metadata": {},
   "outputs": [],
   "source": [
    "# MAP TIME!!!\n",
    "import geopandas as gpd"
   ]
  },
  {
   "cell_type": "code",
   "execution_count": 17,
   "metadata": {},
   "outputs": [],
   "source": [
    "# Read New Mexico county shapefile from \"NM_county.shp\"\n",
    "filename = \"NM_county.shp\"\n",
    "\n",
    "\n",
    "# Read geopandas dataframe from file\n",
    "df = gpd.read_file( filename )"
   ]
  },
  {
   "cell_type": "code",
   "execution_count": 18,
   "metadata": {},
   "outputs": [
    {
     "data": {
      "image/png": "[encoded data removed]",
      "text/plain": [
       "<Figure size 640x480 with 1 Axes>"
      ]
     },
     "metadata": {},
     "output_type": "display_data"
    }
   ],
   "source": [
    "# Which district is each county assigned to?\n",
    "assignment = [ -1 for u in G.nodes ]\n",
    "    \n",
    "# for each district j\n",
    "for j in range(len(districts)):\n",
    "    \n",
    "    # for each node i in this district\n",
    "    for i in districts[j]:\n",
    "        \n",
    "        # What is its GEOID?\n",
    "        geoID = G.nodes[i][\"GEOID20\"]\n",
    "        \n",
    "        # Need to find this GEOID in the dataframe\n",
    "        for u in G.nodes:\n",
    "            if geoID == df['GEOID20'][u]:\n",
    "                assignment[u] = j # Node u from the dataframe should be assigned to district j\n",
    "\n",
    "# Now add the assignments to a column of the dataframe and map it\n",
    "df['assignment'] = assignment\n",
    "my_fig = df.plot(column='assignment').get_figure()"
   ]
  },
  {
   "cell_type": "code",
   "execution_count": null,
   "metadata": {},
   "outputs": [],
   "source": []
  }
 ],
 "metadata": {
  "kernelspec": {
   "display_name": "Python 3 (ipykernel)",
   "language": "python",
   "name": "python3"
  },
  "language_info": {
   "codemirror_mode": {
    "name": "ipython",
    "version": 3
   },
   "file_extension": ".py",
   "mimetype": "text/x-python",
   "name": "python",
   "nbconvert_exporter": "python",
   "pygments_lexer": "ipython3",
   "version": "3.11.4"
  }
 },
 "nbformat": 4,
 "nbformat_minor": 2
}
